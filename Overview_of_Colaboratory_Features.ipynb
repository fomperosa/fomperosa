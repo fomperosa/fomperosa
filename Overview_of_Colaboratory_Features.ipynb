{
  "cells": [
    {
      "cell_type": "markdown",
      "metadata": {
        "id": "view-in-github",
        "colab_type": "text"
      },
      "source": [
        "<a href=\"https://colab.research.google.com/github/fomperosa/fomperosa/blob/main/Overview_of_Colaboratory_Features.ipynb\" target=\"_parent\"><img src=\"https://colab.research.google.com/assets/colab-badge.svg\" alt=\"Open In Colab\"/></a>"
      ]
    },
    {
      "cell_type": "markdown",
      "metadata": {
        "id": "JyG45Qk3qQLS"
      },
      "source": [
        "# Cells\n",
        "A notebook is a list of cells. Cells contain either explanatory text or executable code and its output. Click a cell to select it."
      ]
    },
    {
      "cell_type": "markdown",
      "metadata": {
        "id": "KR921S_OQSHG"
      },
      "source": [
        "## Code cells\n",
        "Below is a **code cell**. Once the toolbar button indicates CONNECTED, click in the cell to select it and execute the contents in the following ways:\n",
        "\n",
        "* Click the **Play icon** in the left gutter of the cell;\n",
        "* Type **Cmd/Ctrl+Enter** to run the cell in place;\n",
        "* Type **Shift+Enter** to run the cell and move focus to the next cell (adding one if none exists); or\n",
        "* Type **Alt+Enter** to run the cell and insert a new code cell immediately below it.\n",
        "\n",
        "There are additional options for running some or all cells in the **Runtime** menu.\n"
      ]
    },
    {
      "cell_type": "code",
      "execution_count": 2,
      "metadata": {
        "cellView": "both",
        "colab": {
          "base_uri": "https://localhost:8080/"
        },
        "id": "WUtu4316QSHL",
        "outputId": "efa09860-d83d-452f-9405-0a65c4440603"
      },
      "outputs": [
        {
          "output_type": "execute_result",
          "data": {
            "text/plain": [
              "10"
            ]
          },
          "metadata": {},
          "execution_count": 2
        }
      ],
      "source": [
        "a = 10\n",
        "a"
      ]
    },
    {
      "cell_type": "markdown",
      "metadata": {
        "id": "Id6tDF1HQSHD"
      },
      "source": [
        "## Text cells\n",
        "This is a **text cell**. You can **double-click** to edit this cell. Text cells\n",
        "use markdown syntax. To learn more, see our [markdown\n",
        "guide](/notebooks/markdown_guide.ipynb).\n",
        "\n",
        "You can also add math to text cells using [LaTeX](http://www.latex-project.org/)\n",
        "to be rendered by [MathJax](https://www.mathjax.org). Just place the statement\n",
        "within a pair of **\\$** signs. For example `$\\sqrt{3x-1}+(1+x)^2$` becomes\n",
        "$\\sqrt{3x-1}+(1+x)^2.$\n"
      ]
    },
    {
      "cell_type": "markdown",
      "metadata": {
        "id": "7bqjkGKwQSHW"
      },
      "source": [
        "## Adding and moving cells\n",
        "You can add new cells by using the **+ CODE** and **+ TEXT** buttons that show when you hover between cells. These buttons are also in the toolbar above the notebook where they can be used to add a cell below the currently selected cell.\n",
        "\n",
        "You can move a cell by selecting it and clicking **Cell Up** or **Cell Down** in the top toolbar.\n",
        "\n",
        "Consecutive cells can be selected by \"lasso selection\" by dragging from outside one cell and through the group.  Non-adjacent cells can be selected concurrently by clicking one and then holding down Ctrl while clicking another.  Similarly, using Shift instead of Ctrl will select all intermediate cells."
      ]
    },
    {
      "cell_type": "markdown",
      "metadata": {
        "id": "GOwlZRXEQSHZ"
      },
      "source": [
        "# Working with python\n",
        "Colaboratory is built on top of [Jupyter Notebook](https://jupyter.org/). Below are some examples of convenience functions provided."
      ]
    },
    {
      "cell_type": "markdown",
      "metadata": {
        "id": "RVuqWUXPQSHa"
      },
      "source": [
        "Long running python processes can be interrupted. Run the following cell and select **Runtime -> Interrupt execution** (*hotkey: Cmd/Ctrl-M I*) to stop execution."
      ]
    },
    {
      "cell_type": "code",
      "execution_count": 3,
      "metadata": {
        "cellView": "both",
        "colab": {
          "base_uri": "https://localhost:8080/"
        },
        "id": "d-S-3nYLQSHb",
        "outputId": "3cdd2e09-9e8a-4c3c-98ef-b2bd93771ac2"
      },
      "outputs": [
        {
          "output_type": "stream",
          "name": "stdout",
          "text": [
            "Sleeping\n",
            "Done Sleeping\n"
          ]
        }
      ],
      "source": [
        "import time\n",
        "print(\"Sleeping\")\n",
        "time.sleep(30) # sleep for a while; interrupt me!\n",
        "print(\"Done Sleeping\")"
      ]
    },
    {
      "cell_type": "markdown",
      "metadata": {
        "id": "Wej_mEyXQSHc"
      },
      "source": [
        "## System aliases\n",
        "\n",
        "Jupyter includes shortcuts for common operations, such as ls:"
      ]
    },
    {
      "cell_type": "code",
      "execution_count": 4,
      "metadata": {
        "cellView": "both",
        "colab": {
          "base_uri": "https://localhost:8080/"
        },
        "id": "5OCYEvK5QSHf",
        "outputId": "19ba99f9-e8f7-4867-a52c-596c2b109aea"
      },
      "outputs": [
        {
          "output_type": "stream",
          "name": "stdout",
          "text": [
            "'['\t\t\t\t      mknod\n",
            " 7z\t\t\t\t      mktemp\n",
            " 7za\t\t\t\t      mm2gv\n",
            " 7zr\t\t\t\t      more\n",
            " aclocal\t\t\t      mount\n",
            " aclocal-1.16\t\t\t      mountpoint\n",
            " acyclic\t\t\t      mpexpand\n",
            " add-apt-repository\t\t      mpic++\n",
            " addpart\t\t\t      mpicc\n",
            " addr2line\t\t\t      mpiCC\n",
            " aggregate_profile\t\t      mpicc.openmpi\n",
            " apropos\t\t\t      mpiCC.openmpi\n",
            " apt\t\t\t\t      mpic++.openmpi\n",
            " apt-add-repository\t\t      mpicxx\n",
            " apt-cache\t\t\t      mpicxx.openmpi\n",
            " apt-cdrom\t\t\t      mpiexec\n",
            " apt-config\t\t\t      mpiexec.openmpi\n",
            " apt-extracttemplates\t\t      mpif77\n",
            " apt-ftparchive\t\t\t      mpif77.openmpi\n",
            " apt-get\t\t\t      mpif90\n",
            " apt-key\t\t\t      mpif90.openmpi\n",
            " apt-mark\t\t\t      mpifort\n",
            " apt-sortpkgs\t\t\t      mpifort.openmpi\n",
            " ar\t\t\t\t      mpijavac\n",
            " arch\t\t\t\t      mpijavac.pl\n",
            " as\t\t\t\t      mpirun\n",
            " asan_symbolize\t\t\t      mpirun.openmpi\n",
            " asan_symbolize-14\t\t      mv\n",
            " autoconf\t\t\t      mysql_config\n",
            " autoheader\t\t\t      namei\n",
            " autom4te\t\t\t      nawk\n",
            " automake\t\t\t      nc-config\n",
            " automake-1.16\t\t\t      ncurses5-config\n",
            " autoreconf\t\t\t      ncurses6-config\n",
            " autoscan\t\t\t      ncursesw5-config\n",
            " autoupdate\t\t\t      ncursesw6-config\n",
            " awk\t\t\t\t      neato\n",
            " b2\t\t\t\t      neqn\n",
            " b2sum\t\t\t\t      networkctl\n",
            " base32\t\t\t\t      newgrp\n",
            " base64\t\t\t\t      nice\n",
            " basename\t\t\t      nisdomainname\n",
            " basenc\t\t\t\t      nl\n",
            " bash\t\t\t\t      nm\n",
            " bashbug\t\t\t      nns\n",
            " bcomps\t\t\t\t      nnsd\n",
            " bcp\t\t\t\t      nnslog\n",
            " bjam\t\t\t\t      nohup\n",
            " bootctl\t\t\t      nop\n",
            " browse\t\t\t\t      nproc\n",
            " bunzip2\t\t\t      nroff\n",
            " busctl\t\t\t\t      nsenter\n",
            " bzcat\t\t\t\t      nstat\n",
            " bzcmp\t\t\t\t      numfmt\n",
            " bzdiff\t\t\t\t      objcopy\n",
            " bzegrep\t\t\t      objdump\n",
            " bzexe\t\t\t\t      od\n",
            " bzfgrep\t\t\t      ogdi-config\n",
            " bzgrep\t\t\t\t      ompi-clean\n",
            " bzip2\t\t\t\t      ompi_info\n",
            " bzip2recover\t\t\t      ompi-server\n",
            " bzless\t\t\t\t      opalc++\n",
            " bzmore\t\t\t\t      opalcc\n",
            " c++\t\t\t\t      opal_wrapper\n",
            " c89\t\t\t\t      open\n",
            " c89-gcc\t\t\t      opencv_annotation\n",
            " c99\t\t\t\t      opencv_interactive-calibration\n",
            " c99-gcc\t\t\t      opencv_model_diagnostics\n",
            " captoinfo\t\t\t      opencv_version\n",
            " cat\t\t\t\t      opencv_visualisation\n",
            " catman\t\t\t\t      opencv_waldboost_detector\n",
            " cc\t\t\t\t      openssl\n",
            " ccomps\t\t\t\t      ortecc\n",
            " c++filt\t\t\t      orte-clean\n",
            " chage\t\t\t\t      orted\n",
            " chattr\t\t\t\t      orte-info\n",
            " chcon\t\t\t\t      orterun\n",
            " chfn\t\t\t\t      orte-server\n",
            " chgrp\t\t\t\t      osage\n",
            " chmod\t\t\t\t      oshc++\n",
            " choom\t\t\t\t      oshcc\n",
            " chown\t\t\t\t      oshCC\n",
            " chronic\t\t\t      oshcxx\n",
            " chrt\t\t\t\t      oshfort\n",
            " chsh\t\t\t\t      oshmem_info\n",
            " circo\t\t\t\t      oshrun\n",
            " cksum\t\t\t\t      p7zip\n",
            " clang\t\t\t\t      pack200\n",
            " clang++\t\t\t      page\n",
            " clang++-14\t\t\t      pager\n",
            " clang-14\t\t\t      pandoc\n",
            " clang-cpp-14\t\t\t      paperconf\n",
            " clear\t\t\t\t      parallel\n",
            " clear_console\t\t\t      partx\n",
            " clinfo\t\t\t\t      passwd\n",
            " cluster\t\t\t      paste\n",
            " cmake\t\t\t\t      patch\n",
            " cmp\t\t\t\t      patchwork\n",
            " col\t\t\t\t      pathchk\n",
            " colcrt\t\t\t\t      pcre2-config\n",
            " colrm\t\t\t\t      pcre-config\n",
            " column\t\t\t\t      pdb3\n",
            " combine\t\t\t      pdb3.10\n",
            " comm\t\t\t\t      pee\n",
            " compile_et\t\t\t      peekfd\n",
            " corelist\t\t\t      perl\n",
            " cp\t\t\t\t      perl5.34.0\n",
            " cpack\t\t\t\t      perl5.34-x86_64-linux-gnu\n",
            " cpan\t\t\t\t      perlbug\n",
            " cpan5.34-x86_64-linux-gnu\t      perldoc\n",
            " cpp\t\t\t\t      perlivp\n",
            " cpp-11\t\t\t\t      perlthanks\n",
            " c_rehash\t\t\t      pg_config\n",
            " csplit\t\t\t\t      pgrep\n",
            " ctest\t\t\t\t      pic\n",
            " ctstat\t\t\t\t      piconv\n",
            " curl\t\t\t\t      pidof\n",
            " curl-config\t\t\t      pidwait\n",
            " cut\t\t\t\t      pinentry\n",
            " cvtsudoers\t\t\t      pinentry-curses\n",
            " dash\t\t\t\t      pinky\n",
            " date\t\t\t\t      pkaction\n",
            " dbus-cleanup-sockets\t\t      pkcheck\n",
            " dbus-daemon\t\t\t      pkexec\n",
            " dbus-monitor\t\t\t      pkg-config\n",
            " dbus-run-session\t\t      pkgdata\n",
            " dbus-send\t\t\t      pkill\n",
            " dbus-update-activation-environment   pkttyagent\n",
            " dbus-uuidgen\t\t\t      pl2pm\n",
            " dd\t\t\t\t      pldd\n",
            " debconf\t\t\t      pmap\n",
            " debconf-apt-progress\t\t      pngfix\n",
            " debconf-communicate\t\t      png-fix-itxt\n",
            " debconf-copydb\t\t\t      pod2html\n",
            " debconf-escape\t\t\t      pod2man\n",
            " debconf-set-selections\t\t      pod2text\n",
            " debconf-show\t\t\t      pod2usage\n",
            " deb-systemd-helper\t\t      podchecker\n",
            " deb-systemd-invoke\t\t      pprof-symbolize\n",
            " delpart\t\t\t      pr\n",
            " derb\t\t\t\t      preconv\n",
            " df\t\t\t\t      prename\n",
            " dh_autotools-dev_restoreconfig       printenv\n",
            " dh_autotools-dev_updateconfig\t      printf\n",
            " diff\t\t\t\t      prlimit\n",
            " diff3\t\t\t\t      profile2mat\n",
            " diffimg\t\t\t      protoc\n",
            " dijkstra\t\t\t      prove\n",
            " dir\t\t\t\t      prtstat\n",
            " dircolors\t\t\t      prune\n",
            " dirmngr\t\t\t      ps\n",
            " dirmngr-client\t\t\t      pslog\n",
            " dirname\t\t\t      pstree\n",
            " dmesg\t\t\t\t      pstree.x11\n",
            " dnsdomainname\t\t\t      pt\n",
            " domainname\t\t\t      ptar\n",
            " dot\t\t\t\t      ptardiff\n",
            " dot2gxl\t\t\t      ptargrep\n",
            " dot_builtins\t\t\t      ptx\n",
            " dotty\t\t\t\t      pwd\n",
            " dpkg\t\t\t\t      pwdx\n",
            " dpkg-architecture\t\t      py3clean\n",
            " dpkg-buildflags\t\t      py3compile\n",
            " dpkg-buildpackage\t\t      py3versions\n",
            " dpkg-checkbuilddeps\t\t      pydoc3\n",
            " dpkg-deb\t\t\t      pydoc3.10\n",
            " dpkg-distaddfile\t\t      pygettext3\n",
            " dpkg-divert\t\t\t      pygettext3.10\n",
            " dpkg-genbuildinfo\t\t      python3\n",
            " dpkg-genchanges\t\t      python3.10\n",
            " dpkg-gencontrol\t\t      python3.10-config\n",
            " dpkg-gensymbols\t\t      python3-config\n",
            " dpkg-maintscript-helper\t      qt-faststart\n",
            " dpkg-mergechangelogs\t\t      quickbook\n",
            " dpkg-name\t\t\t      R\n",
            " dpkg-parsechangelog\t\t      ranlib\n",
            " dpkg-query\t\t\t      rbash\n",
            " dpkg-realpath\t\t\t      rcp\n",
            " dpkg-scanpackages\t\t      rdma\n",
            " dpkg-scansources\t\t      readelf\n",
            " dpkg-shlibdeps\t\t\t      readlink\n",
            " dpkg-source\t\t\t      realpath\n",
            " dpkg-split\t\t\t      rename\n",
            " dpkg-statoverride\t\t      renice\n",
            " dpkg-trigger\t\t\t      reset\n",
            " dpkg-vendor\t\t\t      resizepart\n",
            " dtplite\t\t\t      resolvectl\n",
            " du\t\t\t\t      rev\n",
            " dwp\t\t\t\t      rgrep\n",
            " echo\t\t\t\t      rlogin\n",
            " edgepaint\t\t\t      rm\n",
            " editor\t\t\t\t      rmdir\n",
            " egrep\t\t\t\t      rmic\n",
            " elfedit\t\t\t      rmid\n",
            " enc2xs\t\t\t\t      rmiregistry\n",
            " encguess\t\t\t      routef\n",
            " env\t\t\t\t      routel\n",
            " eqn\t\t\t\t      rpcgen\n",
            " errno\t\t\t\t      rrsync\n",
            " ex\t\t\t\t      Rscript\n",
            " expand\t\t\t\t      rsh\n",
            " expiry\t\t\t\t      rsync\n",
            " expr\t\t\t\t      rsync-ssl\n",
            " f77\t\t\t\t      rtstat\n",
            " f95\t\t\t\t      runcon\n",
            " factor\t\t\t\t      run-parts\n",
            " faillog\t\t\t      rview\n",
            " fallocate\t\t\t      rvim\n",
            " false\t\t\t\t      savelog\n",
            " fc-cache\t\t\t      sccmap\n",
            " fc-cat\t\t\t\t      scp\n",
            " fc-conflist\t\t\t      script\n",
            " fc-list\t\t\t      scriptlive\n",
            " fc-match\t\t\t      scriptreplay\n",
            " fc-pattern\t\t\t      sdiff\n",
            " fc-query\t\t\t      sed\n",
            " fc-scan\t\t\t      select-editor\n",
            " fc-validate\t\t\t      sensible-browser\n",
            " fdp\t\t\t\t      sensible-editor\n",
            " ffmpeg\t\t\t\t      sensible-pager\n",
            " ffplay\t\t\t\t      seq\n",
            " ffprobe\t\t\t      serialver\n",
            " fgrep\t\t\t\t      setarch\n",
            " file\t\t\t\t      setpriv\n",
            " file-rename\t\t\t      setsid\n",
            " fincore\t\t\t      setterm\n",
            " find\t\t\t\t      sfdp\n",
            " findmnt\t\t\t      sftp\n",
            " fio\t\t\t\t      sg\n",
            " fio2gnuplot\t\t\t      sh\n",
            " fio-btrace2fio\t\t\t      sha1sum\n",
            " fio-dedupe\t\t\t      sha224sum\n",
            " fio_generate_plots\t\t      sha256sum\n",
            " fio-genzipf\t\t\t      sha384sum\n",
            " fio_jsonplus_clat2csv\t\t      sha512sum\n",
            " fio-verify-state\t\t      shasum\n",
            " flock\t\t\t\t      shmemc++\n",
            " fmt\t\t\t\t      shmemcc\n",
            " fold\t\t\t\t      shmemCC\n",
            " free\t\t\t\t      shmemcxx\n",
            " funzip\t\t\t\t      shmemfort\n",
            " fuser\t\t\t\t      shmemrun\n",
            " fusermount\t\t\t      shred\n",
            " g++\t\t\t\t      shuf\n",
            " g++-11\t\t\t\t      size\n",
            " gapplication\t\t\t      skill\n",
            " gc\t\t\t\t      slabtop\n",
            " gcc\t\t\t\t      sleep\n",
            " gcc-11\t\t\t\t      slogin\n",
            " gcc-ar\t\t\t\t      snice\n",
            " gcc-ar-11\t\t\t      soelim\n",
            " gcc-nm\t\t\t\t      sort\n",
            " gcc-nm-11\t\t\t      splain\n",
            " gcc-ranlib\t\t\t      split\n",
            " gcc-ranlib-11\t\t\t      sponge\n",
            " gcov\t\t\t\t      ss\n",
            " gcov-11\t\t\t      ssh\n",
            " gcov-dump\t\t\t      ssh-add\n",
            " gcov-dump-11\t\t\t      ssh-agent\n",
            " gcov-tool\t\t\t      ssh-argv0\n",
            " gcov-tool-11\t\t\t      ssh-copy-id\n",
            " gdal-config\t\t\t      ssh-keygen\n",
            " gdbus\t\t\t\t      ssh-keyscan\n",
            " genbrk\t\t\t\t      stat\n",
            " gencat\t\t\t\t      stdbuf\n",
            " gencfu\t\t\t\t      streamzip\n",
            " gencnval\t\t\t      strings\n",
            " gendict\t\t\t      strip\n",
            " genfio\t\t\t\t      stty\n",
            " genrb\t\t\t\t      su\n",
            " geos-config\t\t\t      sudo\n",
            " geqn\t\t\t\t      sudoedit\n",
            " getconf\t\t\t      sudoreplay\n",
            " getent\t\t\t\t      sum\n",
            " getopt\t\t\t\t      sync\n",
            " gfortran\t\t\t      systemctl\n",
            " gfortran-11\t\t\t      systemd\n",
            " gio\t\t\t\t      systemd-analyze\n",
            " gio-querymodules\t\t      systemd-ask-password\n",
            " git\t\t\t\t      systemd-cat\n",
            " git-lfs\t\t\t      systemd-cgls\n",
            " git-receive-pack\t\t      systemd-cgtop\n",
            " git-shell\t\t\t      systemd-cryptenroll\n",
            " git-upload-archive\t\t      systemd-delta\n",
            " git-upload-pack\t\t      systemd-detect-virt\n",
            " glib-compile-schemas\t\t      systemd-escape\n",
            " gmake\t\t\t\t      systemd-id128\n",
            " gml2gv\t\t\t\t      systemd-inhibit\n",
            " gold\t\t\t\t      systemd-machine-id-setup\n",
            " google-pprof\t\t\t      systemd-mount\n",
            " gpasswd\t\t\t      systemd-notify\n",
            " gpg\t\t\t\t      systemd-path\n",
            " gpg2\t\t\t\t      systemd-run\n",
            " gpg-agent\t\t\t      systemd-socket-activate\n",
            " gpgcompose\t\t\t      systemd-stdio-bridge\n",
            " gpgconf\t\t\t      systemd-sysext\n",
            " gpg-connect-agent\t\t      systemd-sysusers\n",
            " gpgparsemail\t\t\t      systemd-tmpfiles\n",
            " gpgsm\t\t\t\t      systemd-tty-ask-password-agent\n",
            " gpgsplit\t\t\t      systemd-umount\n",
            " gpgtar\t\t\t\t      tabs\n",
            " gpgv\t\t\t\t      tac\n",
            " gpg-wks-server\t\t\t      tail\n",
            " gpg-zip\t\t\t      tar\n",
            " gpic\t\t\t\t      taskset\n",
            " gprof\t\t\t\t      tbl\n",
            " graphml2gv\t\t\t      tcldocstrip\n",
            " grep\t\t\t\t      tclsh\n",
            " gresource\t\t\t      tclsh8.6\n",
            " groff\t\t\t\t      tcltk-depends\n",
            " grog\t\t\t\t      tee\n",
            " grops\t\t\t\t      tempfile\n",
            " grotty\t\t\t\t      test\n",
            " groups\t\t\t\t      tic\n",
            " gsettings\t\t\t      timedatectl\n",
            " gtbl\t\t\t\t      timeout\n",
            " gtk-update-icon-cache\t\t      tload\n",
            " gunzip\t\t\t\t      tmux\n",
            " gv2gml\t\t\t\t      toe\n",
            " gv2gxl\t\t\t\t      top\n",
            " gvcolor\t\t\t      touch\n",
            " gvgen\t\t\t\t      tput\n",
            " gvmap\t\t\t\t      tr\n",
            " gvmap.sh\t\t\t      tred\n",
            " gvpack\t\t\t\t      troff\n",
            " gvpr\t\t\t\t      true\n",
            " gxl2dot\t\t\t      truncate\n",
            " gxl2gv\t\t\t\t      ts\n",
            " gzexe\t\t\t\t      tset\n",
            " gzip\t\t\t\t      tsort\n",
            " h2ph\t\t\t\t      tty\n",
            " h2xs\t\t\t\t      twopi\n",
            " h5c++\t\t\t\t      tzselect\n",
            " h5cc\t\t\t\t      ucf\n",
            " h5fc\t\t\t\t      ucfq\n",
            " hardlink\t\t\t      ucfr\n",
            " hd\t\t\t\t      uclampset\n",
            " head\t\t\t\t      uconv\n",
            " helpztags\t\t\t      ul\n",
            " hexdump\t\t\t      ulockmgr_server\n",
            " hostid\t\t\t\t      umount\n",
            " hostname\t\t\t      uname\n",
            " hostnamectl\t\t\t      uncompress\n",
            " i386\t\t\t\t      unexpand\n",
            " iconv\t\t\t\t      unflatten\n",
            " icuexportdata\t\t\t      uniq\n",
            " icuinfo\t\t\t      unlink\n",
            " id\t\t\t\t      unlzma\n",
            " ifdata\t\t\t\t      unpack200\n",
            " ifnames\t\t\t      unrar\n",
            " ifne\t\t\t\t      unrar-nonfree\n",
            " infocmp\t\t\t      unshare\n",
            " infotocap\t\t\t      unxz\n",
            " inspect\t\t\t      unzip\n",
            " install\t\t\t      unzipsfx\n",
            " instmodsh\t\t\t      update-alternatives\n",
            " ionice\t\t\t\t      update-mime-database\n",
            " ip\t\t\t\t      uptime\n",
            " ipcmk\t\t\t\t      users\n",
            " ipcrm\t\t\t\t      utmpdump\n",
            " ipcs\t\t\t\t      vdir\n",
            " ischroot\t\t\t      vi\n",
            " isutf8\t\t\t\t      vidir\n",
            " jaotc\t\t\t\t      view\n",
            " jar\t\t\t\t      vim\n",
            " jarsigner\t\t\t      vim.basic\n",
            " java\t\t\t\t      vimdiff\n",
            " javac\t\t\t\t      vimdot\n",
            " javadoc\t\t\t      vimtutor\n",
            " javap\t\t\t\t      vipe\n",
            " jcmd\t\t\t\t      vmstat\n",
            " jdb\t\t\t\t      w\n",
            " jdeprscan\t\t\t      wall\n",
            " jdeps\t\t\t\t      watch\n",
            " jexec\t\t\t\t      watchgnupg\n",
            " jfr\t\t\t\t      wc\n",
            " jhsdb\t\t\t\t      wdctl\n",
            " jimage\t\t\t\t      wget\n",
            " jinfo\t\t\t\t      whatis\n",
            " jjs\t\t\t\t      whereis\n",
            " jlink\t\t\t\t      which\n",
            " jmap\t\t\t\t      which.debianutils\n",
            " jmod\t\t\t\t      who\n",
            " join\t\t\t\t      whoami\n",
            " journalctl\t\t\t      wish\n",
            " jps\t\t\t\t      wish8.6\n",
            " jrunscript\t\t\t      write\n",
            " jshell\t\t\t\t      write.ul\n",
            " json_pp\t\t\t      X11\n",
            " jstack\t\t\t\t      x86_64\n",
            " jstat\t\t\t\t      x86_64-linux-gnu-addr2line\n",
            " jstatd\t\t\t\t      x86_64-linux-gnu-ar\n",
            " kbxutil\t\t\t      x86_64-linux-gnu-as\n",
            " kernel-install\t\t\t      x86_64-linux-gnu-c++filt\n",
            " keyring\t\t\t      x86_64-linux-gnu-cpp\n",
            " keytool\t\t\t      x86_64-linux-gnu-cpp-11\n",
            " kill\t\t\t\t      x86_64-linux-gnu-dwp\n",
            " killall\t\t\t      x86_64-linux-gnu-elfedit\n",
            " kmod\t\t\t\t      x86_64-linux-gnu-g++\n",
            " krb5-config\t\t\t      x86_64-linux-gnu-g++-11\n",
            " krb5-config.mit\t\t      x86_64-linux-gnu-gcc\n",
            " last\t\t\t\t      x86_64-linux-gnu-gcc-11\n",
            " lastb\t\t\t\t      x86_64-linux-gnu-gcc-ar\n",
            " lastlog\t\t\t      x86_64-linux-gnu-gcc-ar-11\n",
            " lcf\t\t\t\t      x86_64-linux-gnu-gcc-nm\n",
            " lckdo\t\t\t\t      x86_64-linux-gnu-gcc-nm-11\n",
            " ld\t\t\t\t      x86_64-linux-gnu-gcc-ranlib\n",
            " ld.bfd\t\t\t\t      x86_64-linux-gnu-gcc-ranlib-11\n",
            " ldd\t\t\t\t      x86_64-linux-gnu-gcov\n",
            " ld.gold\t\t\t      x86_64-linux-gnu-gcov-11\n",
            " lefty\t\t\t\t      x86_64-linux-gnu-gcov-dump\n",
            " less\t\t\t\t      x86_64-linux-gnu-gcov-dump-11\n",
            " lessecho\t\t\t      x86_64-linux-gnu-gcov-tool\n",
            " lessfile\t\t\t      x86_64-linux-gnu-gcov-tool-11\n",
            " lesskey\t\t\t      x86_64-linux-gnu-gfortran\n",
            " lesspipe\t\t\t      x86_64-linux-gnu-gfortran-11\n",
            " lexgrog\t\t\t      x86_64-linux-gnu-gold\n",
            " libnetcfg\t\t\t      x86_64-linux-gnu-gprof\n",
            " libpng16-config\t\t      x86_64-linux-gnu-ld\n",
            " libpng-config\t\t\t      x86_64-linux-gnu-ld.bfd\n",
            " link\t\t\t\t      x86_64-linux-gnu-ld.gold\n",
            " linux32\t\t\t      x86_64-linux-gnu-lto-dump-11\n",
            " linux64\t\t\t      x86_64-linux-gnu-nm\n",
            " ln\t\t\t\t      x86_64-linux-gnu-objcopy\n",
            " lneato\t\t\t\t      x86_64-linux-gnu-objdump\n",
            " lnstat\t\t\t\t      x86_64-linux-gnu-pkg-config\n",
            " locale\t\t\t\t      x86_64-linux-gnu-python3.10-config\n",
            " locale-check\t\t\t      x86_64-linux-gnu-python3-config\n",
            " localectl\t\t\t      x86_64-linux-gnu-ranlib\n",
            " localedef\t\t\t      x86_64-linux-gnu-readelf\n",
            " logger\t\t\t\t      x86_64-linux-gnu-size\n",
            " login\t\t\t\t      x86_64-linux-gnu-strings\n",
            " loginctl\t\t\t      x86_64-linux-gnu-strip\n",
            " logname\t\t\t      x86_64-pc-linux-gnu-pkg-config\n",
            " look\t\t\t\t      xargs\n",
            " ls\t\t\t\t      xauth\n",
            " lsattr\t\t\t\t      xdg-desktop-icon\n",
            " lsblk\t\t\t\t      xdg-desktop-menu\n",
            " lsb_release\t\t\t      xdg-email\n",
            " lscpu\t\t\t\t      xdg-icon-resource\n",
            " lsipc\t\t\t\t      xdg-mime\n",
            " lslocks\t\t\t      xdg-open\n",
            " lslogins\t\t\t      xdg-screensaver\n",
            " lsmem\t\t\t\t      xdg-settings\n",
            " lsmod\t\t\t\t      xml2-config\n",
            " lsns\t\t\t\t      xsel\n",
            " lsof\t\t\t\t      xsubpp\n",
            " lspgpot\t\t\t      xxd\n",
            " lto-dump-11\t\t\t      xz\n",
            " lzcat\t\t\t\t      xzcat\n",
            " lzcmp\t\t\t\t      xzcmp\n",
            " lzdiff\t\t\t\t      xzdiff\n",
            " lzegrep\t\t\t      xzegrep\n",
            " lzfgrep\t\t\t      xzfgrep\n",
            " lzgrep\t\t\t\t      xzgrep\n",
            " lzless\t\t\t\t      xzless\n",
            " lzma\t\t\t\t      xzmore\n",
            " lzmainfo\t\t\t      yes\n",
            " lzmore\t\t\t\t      ypdomainname\n",
            " m4\t\t\t\t      zcat\n",
            " make\t\t\t\t      zcmp\n",
            " makeconv\t\t\t      zdiff\n",
            " make-first-existing-target\t      zdump\n",
            " man\t\t\t\t      zegrep\n",
            " mandb\t\t\t\t      zfgrep\n",
            " manpath\t\t\t      zforce\n",
            " man.REAL\t\t\t      zgrep\n",
            " man-recode\t\t\t      zip\n",
            " mawk\t\t\t\t      zipcloak\n",
            " mcookie\t\t\t      zipdetails\n",
            " md5sum\t\t\t\t      zipgrep\n",
            " md5sum.textutils\t\t      zipinfo\n",
            " mesg\t\t\t\t      zipnote\n",
            " migrate-pubring-from-classic-gpg     zipsplit\n",
            " mingle\t\t\t\t      zless\n",
            " mispipe\t\t\t      zmore\n",
            " mkdir\t\t\t\t      znew\n",
            " mkfifo\t\t\t\t      zrun\n"
          ]
        }
      ],
      "source": [
        "!ls /bin"
      ]
    },
    {
      "cell_type": "markdown",
      "metadata": {
        "id": "y8Da6JWKQSHh"
      },
      "source": [
        "That `!ls` probably generated a large output. You can select the cell and clear the output by either:\n",
        "\n",
        "1. Clicking on the clear output button (x) in the toolbar above the cell; or\n",
        "2. Right clicking the left gutter of the output area and selecting \"Clear output\" from the context menu.\n",
        "\n",
        "Execute any other process using `!` with string interpolation from python variables, and note the result can be assigned to a variable:"
      ]
    },
    {
      "cell_type": "code",
      "execution_count": 5,
      "metadata": {
        "cellView": "both",
        "id": "zqGrv0blQSHj",
        "outputId": "abc480ec-cd91-4564-d6ee-1112f468441e",
        "colab": {
          "base_uri": "https://localhost:8080/"
        }
      },
      "outputs": [
        {
          "output_type": "execute_result",
          "data": {
            "text/plain": [
              "['Colaboratory is great!',\n",
              " 'Colaboratory is great!',\n",
              " 'Colaboratory is great!',\n",
              " 'Colaboratory is great!']"
            ]
          },
          "metadata": {},
          "execution_count": 5
        }
      ],
      "source": [
        "# In https://github.com/ipython/ipython/pull/10545, single quote strings are ignored\n",
        "message = 'Colaboratory is great!'\n",
        "foo = !unset message && echo -e '{message}\\n{message}\\n'$message\"\\n$message\"\n",
        "foo"
      ]
    },
    {
      "cell_type": "markdown",
      "metadata": {
        "id": "qM4myQGfQboQ"
      },
      "source": [
        "## Magics\n",
        "Colaboratory shares the notion of magics from Jupyter. There are shorthand annotations that change how a cell's text is executed. To learn more, see [Jupyter's magics page](http://nbviewer.jupyter.org/github/ipython/ipython/blob/1.x/examples/notebooks/Cell%20Magics.ipynb).\n"
      ]
    },
    {
      "cell_type": "code",
      "execution_count": 6,
      "metadata": {
        "cellView": "both",
        "colab": {
          "height": 39,
          "base_uri": "https://localhost:8080/"
        },
        "id": "odfM-_GxWbCy",
        "outputId": "ce043578-a1ac-4b05-f301-7737e6de60e6"
      },
      "outputs": [
        {
          "output_type": "display_data",
          "data": {
            "text/plain": [
              "<IPython.core.display.HTML object>"
            ],
            "text/html": [
              "<marquee style='width: 30%; color: blue;'><b>Whee!</b></marquee>\n"
            ]
          },
          "metadata": {}
        }
      ],
      "source": [
        "%%html\n",
        "<marquee style='width: 30%; color: blue;'><b>Whee!</b></marquee>"
      ]
    },
    {
      "cell_type": "code",
      "execution_count": 7,
      "metadata": {
        "colab": {
          "height": 221,
          "base_uri": "https://localhost:8080/"
        },
        "id": "_YrTcK7k22Fp",
        "outputId": "ff04c4df-e4b4-44af-9101-f52abbc1fa4d"
      },
      "outputs": [
        {
          "output_type": "display_data",
          "data": {
            "text/plain": [
              "<IPython.core.display.HTML object>"
            ],
            "text/html": [
              "<svg xmlns=\"http://www.w3.org/2000/svg\" viewBox=\"0 0 450 400\" width=\"200\" height=\"200\">\n",
              "  <rect x=\"80\" y=\"60\" width=\"250\" height=\"250\" rx=\"20\" style=\"fill:red; stroke:black; fill-opacity:0.7\" />\n",
              "  <rect x=\"180\" y=\"110\" width=\"250\" height=\"250\" rx=\"40\" style=\"fill:blue; stroke:black; fill-opacity:0.5;\" />\n",
              "</svg>\n"
            ]
          },
          "metadata": {}
        }
      ],
      "source": [
        "%%html\n",
        "<svg xmlns=\"http://www.w3.org/2000/svg\" viewBox=\"0 0 450 400\" width=\"200\" height=\"200\">\n",
        "  <rect x=\"80\" y=\"60\" width=\"250\" height=\"250\" rx=\"20\" style=\"fill:red; stroke:black; fill-opacity:0.7\" />\n",
        "  <rect x=\"180\" y=\"110\" width=\"250\" height=\"250\" rx=\"40\" style=\"fill:blue; stroke:black; fill-opacity:0.5;\" />\n",
        "</svg>"
      ]
    },
    {
      "cell_type": "markdown",
      "metadata": {
        "id": "d4L9TOP9QSHn"
      },
      "source": [
        "## Automatic completions and exploring code\n",
        "\n",
        "Colab provides automatic completions to explore attributes of Python objects, as well as to quickly view documentation strings. As an example, first run the following cell to import the  [`numpy`](http://www.numpy.org) module."
      ]
    },
    {
      "cell_type": "code",
      "execution_count": 8,
      "metadata": {
        "cellView": "both",
        "id": "Q0JKWcmtQSHp"
      },
      "outputs": [],
      "source": [
        "import numpy as np"
      ]
    },
    {
      "cell_type": "markdown",
      "metadata": {
        "id": "1M890-bXeyYp"
      },
      "source": [
        "If you now insert your cursor after `np` and press **Period**(`.`), you will see the list of available completions within the `np` module. Completions can be opened again by using **Ctrl+Space**."
      ]
    },
    {
      "cell_type": "code",
      "execution_count": 9,
      "metadata": {
        "cellView": "both",
        "colab": {
          "base_uri": "https://localhost:8080/"
        },
        "id": "j6QRIfUHQSHq",
        "outputId": "ffbd36c0-048d-4e46-c12b-fb909cad2bb4"
      },
      "outputs": [
        {
          "output_type": "execute_result",
          "data": {
            "text/plain": [
              "<module 'numpy' from '/usr/local/lib/python3.10/dist-packages/numpy/__init__.py'>"
            ]
          },
          "metadata": {},
          "execution_count": 9
        }
      ],
      "source": [
        "np"
      ]
    },
    {
      "cell_type": "markdown",
      "metadata": {
        "id": "g6MfomFhQSHs"
      },
      "source": [
        "If you type an open parenthesis after any function or class in the module, you will see a pop-up of its documentation string:"
      ]
    },
    {
      "cell_type": "code",
      "execution_count": 10,
      "metadata": {
        "cellView": "both",
        "colab": {
          "base_uri": "https://localhost:8080/"
        },
        "id": "SD0XnrVhQSHt",
        "outputId": "105a6ca9-7a2c-4617-b4ed-90882507d818"
      },
      "outputs": [
        {
          "output_type": "execute_result",
          "data": {
            "text/plain": [
              "numpy.ndarray"
            ]
          },
          "metadata": {},
          "execution_count": 10
        }
      ],
      "source": [
        "np.ndarray"
      ]
    },
    {
      "cell_type": "markdown",
      "metadata": {
        "id": "GVIVDgdaRjPQ"
      },
      "source": [
        "The documentation can be opened again using **Ctrl+Shift+Space** or you can view the documentation for method by mouse hovering over the method name.\n",
        "\n",
        "When hovering over the method name the `Open in tab` link will open the documentation in a persistent pane. The `View source` link will navigate to the source code for the method."
      ]
    },
    {
      "cell_type": "markdown",
      "metadata": {
        "id": "TYTBdJXxfqiJ"
      },
      "source": [
        "## Exception Formatting"
      ]
    },
    {
      "cell_type": "markdown",
      "metadata": {
        "id": "4bqAVK-aQSHx"
      },
      "source": [
        "Exceptions are formatted nicely in Colab outputs:"
      ]
    },
    {
      "cell_type": "code",
      "execution_count": 13,
      "metadata": {
        "cellView": "both",
        "colab": {
          "base_uri": "https://localhost:8080/"
        },
        "id": "CrJf1PEmQSHx",
        "outputId": "5b16ad59-9c81-4604-fa15-b977b24ce81d"
      },
      "outputs": [
        {
          "output_type": "execute_result",
          "data": {
            "text/plain": [
              "[{'type': 'Exception',\n",
              "  'message': 'Error message',\n",
              "  'stackTrace': ['Line 1, Column 1: Error message',\n",
              "   'Line 2, Column 3: Another error message',\n",
              "   Ellipsis]}]"
            ]
          },
          "metadata": {},
          "execution_count": 13
        }
      ],
      "source": [
        "\n",
        "[\n",
        "  {\n",
        "    \"type\": \"Exception\",\n",
        "    \"message\": \"Error message\",\n",
        "    \"stackTrace\": [\n",
        "      \"Line 1, Column 1: Error message\",\n",
        "      \"Line 2, Column 3: Another error message\",\n",
        "      ...\n",
        "    ]\n",
        "  }\n",
        "]\n"
      ]
    },
    {
      "cell_type": "markdown",
      "metadata": {
        "id": "7cRnhv_7N4Pa"
      },
      "source": [
        "## Rich, interactive outputs\n",
        "Until now all of the generated outputs have been text, but they can be more interesting, like the chart below."
      ]
    },
    {
      "cell_type": "code",
      "execution_count": 15,
      "metadata": {
        "colab": {
          "height": 452,
          "base_uri": "https://localhost:8080/"
        },
        "id": "JVXnTqyE9RET",
        "outputId": "a8935173-4618-45e2-9e4b-fc52a7449375"
      },
      "outputs": [
        {
          "output_type": "display_data",
          "data": {
            "text/plain": [
              "<Figure size 640x480 with 1 Axes>"
            ],
            "image/png": "[encoded data removed]"
          },
          "metadata": {}
        }
      ],
      "source": [
        "import numpy as np\n",
        "from matplotlib import pyplot as plt\n",
        "\n",
        "ys = 200 + np.random.randn(100)\n",
        "x = [x for x in range(len(ys))]\n",
        "\n",
        "plt.plot(x, ys, '-')\n",
        "plt.fill_between(x, ys, 195, where=(ys > 195), facecolor='g', alpha=0.6)\n",
        "\n",
        "plt.title(\"Fills and Alpha Example\")\n",
        "plt.show()"
      ]
    },
    {
      "cell_type": "markdown",
      "metadata": {
        "id": "aro-UJgUQSH1"
      },
      "source": [
        "# Integration with Drive\n",
        "\n",
        "Colaboratory is integrated with Google Drive. It allows you to share, comment, and collaborate on the same document with multiple people:\n",
        "\n",
        "* The **SHARE** button (top-right of the toolbar) allows you to share the notebook and control permissions set on it.\n",
        "\n",
        "* **File->Make a Copy** creates a copy of the notebook in Drive.\n",
        "\n",
        "* **File->Save** saves the File to Drive. **File->Save and checkpoint** pins the version so it doesn't get deleted from the revision history.\n",
        "\n",
        "* **File->Revision history** shows the notebook's revision history."
      ]
    },
    {
      "cell_type": "markdown",
      "metadata": {
        "id": "4hfV37gxpP_c"
      },
      "source": [
        "## Commenting on a cell\n",
        "You can comment on a Colaboratory notebook like you would on a Google Document. Comments are attached to cells, and are displayed next to the cell they refer to. If you have **comment-only** permissions, you will see a comment button on the top right of the cell when you hover over it.\n",
        "\n",
        "If you have edit or comment permissions you can comment on a cell in one of three ways:\n",
        "\n",
        "1. Select a cell and click the comment button in the toolbar above the top-right corner of the cell.\n",
        "1. Right click a text cell and select **Add a comment** from the context menu.\n",
        "3. Use the shortcut **Ctrl+Shift+M** to add a comment to the currently selected cell.\n",
        "\n",
        "You can resolve and reply to comments, and you can target comments to specific collaborators by typing *+[email address]* (e.g., `+user@domain.com`). Addressed collaborators will be emailed.\n",
        "\n",
        "The Comment button in the top-right corner of the page shows all comments attached to the notebook."
      ]
    }
  ],
  "metadata": {
    "colab": {
      "name": "Overview of Colaboratory Features",
      "toc_visible": true,
      "provenance": [],
      "include_colab_link": true
    },
    "kernelspec": {
      "display_name": "Python 3",
      "name": "python3"
    }
  },
  "nbformat": 4,
  "nbformat_minor": 0
}